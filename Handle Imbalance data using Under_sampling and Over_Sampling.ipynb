{
 "cells": [
  {
   "cell_type": "markdown",
   "metadata": {},
   "source": []
  },
  {
   "cell_type": "code",
   "execution_count": 1,
   "metadata": {},
   "outputs": [],
   "source": [
    "import pandas as pd\n",
    "import numpy  as np\n",
    "import random\n",
    "import matplotlib.pyplot as plt\n",
    "import os \n",
    "os.chdir('D:\\Edureka DataSets')\n",
    "pd.pandas.set_option('display.max_columns',None)"
   ]
  },
  {
   "cell_type": "code",
   "execution_count": 2,
   "metadata": {},
   "outputs": [
    {
     "data": {
      "text/html": [
       "<div>\n",
       "<style scoped>\n",
       "    .dataframe tbody tr th:only-of-type {\n",
       "        vertical-align: middle;\n",
       "    }\n",
       "\n",
       "    .dataframe tbody tr th {\n",
       "        vertical-align: top;\n",
       "    }\n",
       "\n",
       "    .dataframe thead th {\n",
       "        text-align: right;\n",
       "    }\n",
       "</style>\n",
       "<table border=\"1\" class=\"dataframe\">\n",
       "  <thead>\n",
       "    <tr style=\"text-align: right;\">\n",
       "      <th></th>\n",
       "      <th>Time</th>\n",
       "      <th>V1</th>\n",
       "      <th>V2</th>\n",
       "      <th>V3</th>\n",
       "      <th>V4</th>\n",
       "      <th>V5</th>\n",
       "      <th>V6</th>\n",
       "      <th>V7</th>\n",
       "      <th>V8</th>\n",
       "      <th>V9</th>\n",
       "      <th>V10</th>\n",
       "      <th>V11</th>\n",
       "      <th>V12</th>\n",
       "      <th>V13</th>\n",
       "      <th>V14</th>\n",
       "      <th>V15</th>\n",
       "      <th>V16</th>\n",
       "      <th>V17</th>\n",
       "      <th>V18</th>\n",
       "      <th>V19</th>\n",
       "      <th>V20</th>\n",
       "      <th>V21</th>\n",
       "      <th>V22</th>\n",
       "      <th>V23</th>\n",
       "      <th>V24</th>\n",
       "      <th>V25</th>\n",
       "      <th>V26</th>\n",
       "      <th>V27</th>\n",
       "      <th>V28</th>\n",
       "      <th>Amount</th>\n",
       "      <th>Class</th>\n",
       "    </tr>\n",
       "  </thead>\n",
       "  <tbody>\n",
       "    <tr>\n",
       "      <td>0</td>\n",
       "      <td>0.0</td>\n",
       "      <td>-1.359807</td>\n",
       "      <td>-0.072781</td>\n",
       "      <td>2.536347</td>\n",
       "      <td>1.378155</td>\n",
       "      <td>-0.338321</td>\n",
       "      <td>0.462388</td>\n",
       "      <td>0.239599</td>\n",
       "      <td>0.098698</td>\n",
       "      <td>0.363787</td>\n",
       "      <td>0.090794</td>\n",
       "      <td>-0.551600</td>\n",
       "      <td>-0.617801</td>\n",
       "      <td>-0.991390</td>\n",
       "      <td>-0.311169</td>\n",
       "      <td>1.468177</td>\n",
       "      <td>-0.470401</td>\n",
       "      <td>0.207971</td>\n",
       "      <td>0.025791</td>\n",
       "      <td>0.403993</td>\n",
       "      <td>0.251412</td>\n",
       "      <td>-0.018307</td>\n",
       "      <td>0.277838</td>\n",
       "      <td>-0.110474</td>\n",
       "      <td>0.066928</td>\n",
       "      <td>0.128539</td>\n",
       "      <td>-0.189115</td>\n",
       "      <td>0.133558</td>\n",
       "      <td>-0.021053</td>\n",
       "      <td>149.62</td>\n",
       "      <td>0</td>\n",
       "    </tr>\n",
       "    <tr>\n",
       "      <td>1</td>\n",
       "      <td>0.0</td>\n",
       "      <td>1.191857</td>\n",
       "      <td>0.266151</td>\n",
       "      <td>0.166480</td>\n",
       "      <td>0.448154</td>\n",
       "      <td>0.060018</td>\n",
       "      <td>-0.082361</td>\n",
       "      <td>-0.078803</td>\n",
       "      <td>0.085102</td>\n",
       "      <td>-0.255425</td>\n",
       "      <td>-0.166974</td>\n",
       "      <td>1.612727</td>\n",
       "      <td>1.065235</td>\n",
       "      <td>0.489095</td>\n",
       "      <td>-0.143772</td>\n",
       "      <td>0.635558</td>\n",
       "      <td>0.463917</td>\n",
       "      <td>-0.114805</td>\n",
       "      <td>-0.183361</td>\n",
       "      <td>-0.145783</td>\n",
       "      <td>-0.069083</td>\n",
       "      <td>-0.225775</td>\n",
       "      <td>-0.638672</td>\n",
       "      <td>0.101288</td>\n",
       "      <td>-0.339846</td>\n",
       "      <td>0.167170</td>\n",
       "      <td>0.125895</td>\n",
       "      <td>-0.008983</td>\n",
       "      <td>0.014724</td>\n",
       "      <td>2.69</td>\n",
       "      <td>0</td>\n",
       "    </tr>\n",
       "    <tr>\n",
       "      <td>2</td>\n",
       "      <td>1.0</td>\n",
       "      <td>-1.358354</td>\n",
       "      <td>-1.340163</td>\n",
       "      <td>1.773209</td>\n",
       "      <td>0.379780</td>\n",
       "      <td>-0.503198</td>\n",
       "      <td>1.800499</td>\n",
       "      <td>0.791461</td>\n",
       "      <td>0.247676</td>\n",
       "      <td>-1.514654</td>\n",
       "      <td>0.207643</td>\n",
       "      <td>0.624501</td>\n",
       "      <td>0.066084</td>\n",
       "      <td>0.717293</td>\n",
       "      <td>-0.165946</td>\n",
       "      <td>2.345865</td>\n",
       "      <td>-2.890083</td>\n",
       "      <td>1.109969</td>\n",
       "      <td>-0.121359</td>\n",
       "      <td>-2.261857</td>\n",
       "      <td>0.524980</td>\n",
       "      <td>0.247998</td>\n",
       "      <td>0.771679</td>\n",
       "      <td>0.909412</td>\n",
       "      <td>-0.689281</td>\n",
       "      <td>-0.327642</td>\n",
       "      <td>-0.139097</td>\n",
       "      <td>-0.055353</td>\n",
       "      <td>-0.059752</td>\n",
       "      <td>378.66</td>\n",
       "      <td>0</td>\n",
       "    </tr>\n",
       "    <tr>\n",
       "      <td>3</td>\n",
       "      <td>1.0</td>\n",
       "      <td>-0.966272</td>\n",
       "      <td>-0.185226</td>\n",
       "      <td>1.792993</td>\n",
       "      <td>-0.863291</td>\n",
       "      <td>-0.010309</td>\n",
       "      <td>1.247203</td>\n",
       "      <td>0.237609</td>\n",
       "      <td>0.377436</td>\n",
       "      <td>-1.387024</td>\n",
       "      <td>-0.054952</td>\n",
       "      <td>-0.226487</td>\n",
       "      <td>0.178228</td>\n",
       "      <td>0.507757</td>\n",
       "      <td>-0.287924</td>\n",
       "      <td>-0.631418</td>\n",
       "      <td>-1.059647</td>\n",
       "      <td>-0.684093</td>\n",
       "      <td>1.965775</td>\n",
       "      <td>-1.232622</td>\n",
       "      <td>-0.208038</td>\n",
       "      <td>-0.108300</td>\n",
       "      <td>0.005274</td>\n",
       "      <td>-0.190321</td>\n",
       "      <td>-1.175575</td>\n",
       "      <td>0.647376</td>\n",
       "      <td>-0.221929</td>\n",
       "      <td>0.062723</td>\n",
       "      <td>0.061458</td>\n",
       "      <td>123.50</td>\n",
       "      <td>0</td>\n",
       "    </tr>\n",
       "    <tr>\n",
       "      <td>4</td>\n",
       "      <td>2.0</td>\n",
       "      <td>-1.158233</td>\n",
       "      <td>0.877737</td>\n",
       "      <td>1.548718</td>\n",
       "      <td>0.403034</td>\n",
       "      <td>-0.407193</td>\n",
       "      <td>0.095921</td>\n",
       "      <td>0.592941</td>\n",
       "      <td>-0.270533</td>\n",
       "      <td>0.817739</td>\n",
       "      <td>0.753074</td>\n",
       "      <td>-0.822843</td>\n",
       "      <td>0.538196</td>\n",
       "      <td>1.345852</td>\n",
       "      <td>-1.119670</td>\n",
       "      <td>0.175121</td>\n",
       "      <td>-0.451449</td>\n",
       "      <td>-0.237033</td>\n",
       "      <td>-0.038195</td>\n",
       "      <td>0.803487</td>\n",
       "      <td>0.408542</td>\n",
       "      <td>-0.009431</td>\n",
       "      <td>0.798278</td>\n",
       "      <td>-0.137458</td>\n",
       "      <td>0.141267</td>\n",
       "      <td>-0.206010</td>\n",
       "      <td>0.502292</td>\n",
       "      <td>0.219422</td>\n",
       "      <td>0.215153</td>\n",
       "      <td>69.99</td>\n",
       "      <td>0</td>\n",
       "    </tr>\n",
       "  </tbody>\n",
       "</table>\n",
       "</div>"
      ],
      "text/plain": [
       "   Time        V1        V2        V3        V4        V5        V6        V7  \\\n",
       "0   0.0 -1.359807 -0.072781  2.536347  1.378155 -0.338321  0.462388  0.239599   \n",
       "1   0.0  1.191857  0.266151  0.166480  0.448154  0.060018 -0.082361 -0.078803   \n",
       "2   1.0 -1.358354 -1.340163  1.773209  0.379780 -0.503198  1.800499  0.791461   \n",
       "3   1.0 -0.966272 -0.185226  1.792993 -0.863291 -0.010309  1.247203  0.237609   \n",
       "4   2.0 -1.158233  0.877737  1.548718  0.403034 -0.407193  0.095921  0.592941   \n",
       "\n",
       "         V8        V9       V10       V11       V12       V13       V14  \\\n",
       "0  0.098698  0.363787  0.090794 -0.551600 -0.617801 -0.991390 -0.311169   \n",
       "1  0.085102 -0.255425 -0.166974  1.612727  1.065235  0.489095 -0.143772   \n",
       "2  0.247676 -1.514654  0.207643  0.624501  0.066084  0.717293 -0.165946   \n",
       "3  0.377436 -1.387024 -0.054952 -0.226487  0.178228  0.507757 -0.287924   \n",
       "4 -0.270533  0.817739  0.753074 -0.822843  0.538196  1.345852 -1.119670   \n",
       "\n",
       "        V15       V16       V17       V18       V19       V20       V21  \\\n",
       "0  1.468177 -0.470401  0.207971  0.025791  0.403993  0.251412 -0.018307   \n",
       "1  0.635558  0.463917 -0.114805 -0.183361 -0.145783 -0.069083 -0.225775   \n",
       "2  2.345865 -2.890083  1.109969 -0.121359 -2.261857  0.524980  0.247998   \n",
       "3 -0.631418 -1.059647 -0.684093  1.965775 -1.232622 -0.208038 -0.108300   \n",
       "4  0.175121 -0.451449 -0.237033 -0.038195  0.803487  0.408542 -0.009431   \n",
       "\n",
       "        V22       V23       V24       V25       V26       V27       V28  \\\n",
       "0  0.277838 -0.110474  0.066928  0.128539 -0.189115  0.133558 -0.021053   \n",
       "1 -0.638672  0.101288 -0.339846  0.167170  0.125895 -0.008983  0.014724   \n",
       "2  0.771679  0.909412 -0.689281 -0.327642 -0.139097 -0.055353 -0.059752   \n",
       "3  0.005274 -0.190321 -1.175575  0.647376 -0.221929  0.062723  0.061458   \n",
       "4  0.798278 -0.137458  0.141267 -0.206010  0.502292  0.219422  0.215153   \n",
       "\n",
       "   Amount  Class  \n",
       "0  149.62      0  \n",
       "1    2.69      0  \n",
       "2  378.66      0  \n",
       "3  123.50      0  \n",
       "4   69.99      0  "
      ]
     },
     "execution_count": 2,
     "metadata": {},
     "output_type": "execute_result"
    }
   ],
   "source": [
    "# Here we can see that high majority value is '0' and less no of '1' that mean to  say it is imbalanced dataset.so now we will use imbalanced tecniques.\n",
    "df = pd.read_csv('creditcard.csv')\n",
    "df.head()"
   ]
  },
  {
   "cell_type": "code",
   "execution_count": 3,
   "metadata": {},
   "outputs": [],
   "source": [
    "df.Class.value_counts()\n",
    "column = df.columns.tolist()\n",
    "column = [i for i in df.columns if i not in ['Class']]"
   ]
  },
  {
   "cell_type": "code",
   "execution_count": 4,
   "metadata": {},
   "outputs": [],
   "source": [
    "\n",
    "target = 'Class'"
   ]
  },
  {
   "cell_type": "code",
   "execution_count": 5,
   "metadata": {},
   "outputs": [
    {
     "data": {
      "text/plain": [
       "((284807, 30), (284807,))"
      ]
     },
     "execution_count": 5,
     "metadata": {},
     "output_type": "execute_result"
    }
   ],
   "source": [
    "state = np.random.RandomState(42)\n",
    "X = df[column]\n",
    "Y = df[target]\n",
    "X.shape , Y.shape"
   ]
  },
  {
   "cell_type": "code",
   "execution_count": 6,
   "metadata": {},
   "outputs": [],
   "source": [
    "df.isnull().values.any()\n",
    "label = ['Normal','Fraud']"
   ]
  },
  {
   "cell_type": "code",
   "execution_count": 7,
   "metadata": {},
   "outputs": [],
   "source": [
    "count_class = pd.value_counts(df['Class'],sort = True)"
   ]
  },
  {
   "cell_type": "code",
   "execution_count": 8,
   "metadata": {},
   "outputs": [
    {
     "data": {
      "image/png": "[encoded data removed]",
      "text/plain": [
       "<Figure size 432x288 with 1 Axes>"
      ]
     },
     "metadata": {
      "needs_background": "light"
     },
     "output_type": "display_data"
    }
   ],
   "source": [
    "count_class.plot(kind = 'bar',rot = 0)\n",
    "plt.xlabel('Fraud')\n",
    "plt.ylabel('Frequency')\n",
    "plt.xticks(range(2),label)\n",
    "plt.show()"
   ]
  },
  {
   "cell_type": "code",
   "execution_count": 9,
   "metadata": {},
   "outputs": [],
   "source": [
    "Fraud = df[df.Class == 1]"
   ]
  },
  {
   "cell_type": "code",
   "execution_count": 10,
   "metadata": {},
   "outputs": [],
   "source": [
    "Normal = df[df.Class == 0]"
   ]
  },
  {
   "cell_type": "code",
   "execution_count": 11,
   "metadata": {},
   "outputs": [
    {
     "data": {
      "text/plain": [
       "((492, 31), (284315, 31))"
      ]
     },
     "execution_count": 11,
     "metadata": {},
     "output_type": "execute_result"
    }
   ],
   "source": [
    "Fraud.shape , Normal.shape"
   ]
  },
  {
   "cell_type": "code",
   "execution_count": 12,
   "metadata": {},
   "outputs": [
    {
     "name": "stderr",
     "output_type": "stream",
     "text": [
      "Using TensorFlow backend.\n"
     ]
    },
    {
     "data": {
      "text/plain": [
       "((567562, 30), (567562,))"
      ]
     },
     "execution_count": 12,
     "metadata": {},
     "output_type": "execute_result"
    }
   ],
   "source": [
    "# Implement OverSampling tecnique for handle imbalance dataset.\n",
    "# SMOTETomek is the  combination of  under_sampling and Over_sampling(over_sampling is more efficient other than under sampling because in under sampling we can lose some data but over_sampling we cannot we most of the time we prefer to use over_sampling.)\n",
    "from imblearn.combine import SMOTETomek\n",
    "from imblearn.under_sampling import NearMiss\n",
    "smk = SMOTETomek(random_state = 42)\n",
    "X_smk , Y_smk = smk.fit_sample(X,Y)\n",
    "X_smk.shape , Y_smk.shape"
   ]
  },
  {
   "cell_type": "code",
   "execution_count": null,
   "metadata": {},
   "outputs": [],
   "source": []
  },
  {
   "cell_type": "code",
   "execution_count": 16,
   "metadata": {},
   "outputs": [
    {
     "name": "stdout",
     "output_type": "stream",
     "text": [
      "Original DataSet Counter({0: 284315, 1: 492})\n",
      "Resampled Dataset Counter({0: 283781, 1: 283781})\n"
     ]
    }
   ],
   "source": [
    "from collections import Counter\n",
    "print('Original DataSet {}'.format(Counter(Y)))\n",
    "print('Resampled Dataset {}'.format(Counter(Y_smk)))"
   ]
  },
  {
   "cell_type": "code",
   "execution_count": 19,
   "metadata": {},
   "outputs": [
    {
     "data": {
      "text/plain": [
       "((568630, 30), (568630,))"
      ]
     },
     "execution_count": 19,
     "metadata": {},
     "output_type": "execute_result"
    }
   ],
   "source": [
    "# Apply RandomOverSampling to handle imbalanced datset\n",
    "from imblearn.over_sampling import RandomOverSampler\n",
    "RS = RandomOverSampler()\n",
    "X_rs , Y_rs = RS.fit_sample(X, Y)\n",
    "X_rs.shape , Y_rs.shape"
   ]
  },
  {
   "cell_type": "code",
   "execution_count": null,
   "metadata": {},
   "outputs": [],
   "source": []
  },
  {
   "cell_type": "code",
   "execution_count": 20,
   "metadata": {},
   "outputs": [
    {
     "data": {
      "text/plain": [
       "((984, 30), (984,))"
      ]
     },
     "execution_count": 20,
     "metadata": {},
     "output_type": "execute_result"
    }
   ],
   "source": [
    "# Apply Under-Sampling \n",
    "from imblearn.under_sampling import NearMiss\n",
    "NM = NearMiss()\n",
    "X_NM , Y_NM = NM.fit_sample(X, Y)\n",
    "X_NM.shape , Y_NM.shape"
   ]
  },
  {
   "cell_type": "code",
   "execution_count": 21,
   "metadata": {},
   "outputs": [
    {
     "data": {
      "text/plain": [
       "((567574, 30), (567574,))"
      ]
     },
     "execution_count": 21,
     "metadata": {},
     "output_type": "execute_result"
    }
   ],
   "source": [
    "# Over- Sampling\n",
    "OS = SMOTETomek()\n",
    "X_os , Y_os = OS.fit_sample(X,Y)\n",
    "X_os.shape , Y_os.shape\n"
   ]
  },
  {
   "cell_type": "markdown",
   "metadata": {},
   "source": [
    "# Apply Feature Engineering\n"
   ]
  },
  {
   "cell_type": "code",
   "execution_count": 225,
   "metadata": {},
   "outputs": [
    {
     "name": "stdout",
     "output_type": "stream",
     "text": [
      "Normal 0.9982725143693799% , Fraud 0.001727485630620034%\n"
     ]
    }
   ],
   "source": [
    "# Checking how what Percentage of missing value dataset have.\n",
    "def val(column , data):\n",
    "    v1 = data[column].value_counts()[0]/len(data)\n",
    "    v2 = data[column].value_counts()[1]/len(data)\n",
    "    return print('Normal {}% , Fraud {}%'.format(v1 , v2))\n",
    "val('Class',df)"
   ]
  },
  {
   "cell_type": "code",
   "execution_count": 226,
   "metadata": {},
   "outputs": [
    {
     "data": {
      "text/plain": [
       "<matplotlib.axes._subplots.AxesSubplot at 0x1f0999ff608>"
      ]
     },
     "execution_count": 226,
     "metadata": {},
     "output_type": "execute_result"
    },
    {
     "data": {
      "image/png": "[encoded data removed]",
      "text/plain": [
       "<Figure size 432x288 with 1 Axes>"
      ]
     },
     "metadata": {
      "needs_background": "light"
     },
     "output_type": "display_data"
    }
   ],
   "source": [
    "import seaborn as sns\n",
    "colors = ['yellow']\n",
    "sns.countplot('Class',data = df , palette = colors)"
   ]
  },
  {
   "cell_type": "code",
   "execution_count": 25,
   "metadata": {},
   "outputs": [
    {
     "data": {
      "text/html": [
       "<div>\n",
       "<style scoped>\n",
       "    .dataframe tbody tr th:only-of-type {\n",
       "        vertical-align: middle;\n",
       "    }\n",
       "\n",
       "    .dataframe tbody tr th {\n",
       "        vertical-align: top;\n",
       "    }\n",
       "\n",
       "    .dataframe thead th {\n",
       "        text-align: right;\n",
       "    }\n",
       "</style>\n",
       "<table border=\"1\" class=\"dataframe\">\n",
       "  <thead>\n",
       "    <tr style=\"text-align: right;\">\n",
       "      <th></th>\n",
       "      <th>Time</th>\n",
       "      <th>V1</th>\n",
       "      <th>V2</th>\n",
       "      <th>V3</th>\n",
       "      <th>V4</th>\n",
       "      <th>V5</th>\n",
       "      <th>V6</th>\n",
       "      <th>V7</th>\n",
       "      <th>V8</th>\n",
       "      <th>V9</th>\n",
       "      <th>V10</th>\n",
       "      <th>V11</th>\n",
       "      <th>V12</th>\n",
       "      <th>V13</th>\n",
       "      <th>V14</th>\n",
       "      <th>V15</th>\n",
       "      <th>V16</th>\n",
       "      <th>V17</th>\n",
       "      <th>V18</th>\n",
       "      <th>V19</th>\n",
       "      <th>V20</th>\n",
       "      <th>V21</th>\n",
       "      <th>V22</th>\n",
       "      <th>V23</th>\n",
       "      <th>V24</th>\n",
       "      <th>V25</th>\n",
       "      <th>V26</th>\n",
       "      <th>V27</th>\n",
       "      <th>V28</th>\n",
       "      <th>Amount</th>\n",
       "      <th>Class</th>\n",
       "    </tr>\n",
       "  </thead>\n",
       "  <tbody>\n",
       "    <tr>\n",
       "      <td>180226</td>\n",
       "      <td>124436.0</td>\n",
       "      <td>-0.066144</td>\n",
       "      <td>0.022630</td>\n",
       "      <td>0.573349</td>\n",
       "      <td>-1.803766</td>\n",
       "      <td>0.047718</td>\n",
       "      <td>-1.947762</td>\n",
       "      <td>1.099290</td>\n",
       "      <td>-0.636443</td>\n",
       "      <td>-0.903976</td>\n",
       "      <td>0.033664</td>\n",
       "      <td>-0.446594</td>\n",
       "      <td>0.000434</td>\n",
       "      <td>0.121321</td>\n",
       "      <td>-0.007651</td>\n",
       "      <td>-0.695603</td>\n",
       "      <td>-1.606521</td>\n",
       "      <td>-0.649771</td>\n",
       "      <td>1.032225</td>\n",
       "      <td>-2.733577</td>\n",
       "      <td>-0.631506</td>\n",
       "      <td>0.098103</td>\n",
       "      <td>0.906768</td>\n",
       "      <td>0.064897</td>\n",
       "      <td>0.910962</td>\n",
       "      <td>-0.880030</td>\n",
       "      <td>-0.580757</td>\n",
       "      <td>0.069084</td>\n",
       "      <td>0.041817</td>\n",
       "      <td>30.34</td>\n",
       "      <td>0</td>\n",
       "    </tr>\n",
       "    <tr>\n",
       "      <td>88258</td>\n",
       "      <td>62059.0</td>\n",
       "      <td>-1.644403</td>\n",
       "      <td>3.129852</td>\n",
       "      <td>-2.576977</td>\n",
       "      <td>3.415573</td>\n",
       "      <td>-0.448525</td>\n",
       "      <td>-1.241893</td>\n",
       "      <td>-1.991652</td>\n",
       "      <td>1.002665</td>\n",
       "      <td>-2.809071</td>\n",
       "      <td>-4.153692</td>\n",
       "      <td>1.398185</td>\n",
       "      <td>-5.653270</td>\n",
       "      <td>-1.233694</td>\n",
       "      <td>-6.332513</td>\n",
       "      <td>0.458715</td>\n",
       "      <td>-1.983610</td>\n",
       "      <td>-4.929162</td>\n",
       "      <td>-1.038482</td>\n",
       "      <td>-0.133819</td>\n",
       "      <td>0.290187</td>\n",
       "      <td>0.417762</td>\n",
       "      <td>-0.648576</td>\n",
       "      <td>-0.318617</td>\n",
       "      <td>-0.680413</td>\n",
       "      <td>0.389869</td>\n",
       "      <td>0.055750</td>\n",
       "      <td>0.394682</td>\n",
       "      <td>0.298821</td>\n",
       "      <td>6.62</td>\n",
       "      <td>1</td>\n",
       "    </tr>\n",
       "    <tr>\n",
       "      <td>196138</td>\n",
       "      <td>131371.0</td>\n",
       "      <td>-0.947727</td>\n",
       "      <td>0.950871</td>\n",
       "      <td>2.522404</td>\n",
       "      <td>3.160540</td>\n",
       "      <td>1.333342</td>\n",
       "      <td>1.436688</td>\n",
       "      <td>0.501537</td>\n",
       "      <td>-0.167487</td>\n",
       "      <td>-1.138064</td>\n",
       "      <td>1.344973</td>\n",
       "      <td>-1.572457</td>\n",
       "      <td>-0.686062</td>\n",
       "      <td>0.922541</td>\n",
       "      <td>-0.996872</td>\n",
       "      <td>-0.042470</td>\n",
       "      <td>0.617926</td>\n",
       "      <td>-0.933038</td>\n",
       "      <td>0.344287</td>\n",
       "      <td>-0.453496</td>\n",
       "      <td>0.173241</td>\n",
       "      <td>0.120144</td>\n",
       "      <td>0.696560</td>\n",
       "      <td>-0.590870</td>\n",
       "      <td>0.207156</td>\n",
       "      <td>0.495250</td>\n",
       "      <td>0.311736</td>\n",
       "      <td>-0.518486</td>\n",
       "      <td>-0.288531</td>\n",
       "      <td>16.95</td>\n",
       "      <td>0</td>\n",
       "    </tr>\n",
       "    <tr>\n",
       "      <td>151462</td>\n",
       "      <td>95559.0</td>\n",
       "      <td>-16.308650</td>\n",
       "      <td>11.614801</td>\n",
       "      <td>-19.739386</td>\n",
       "      <td>10.463866</td>\n",
       "      <td>-12.599146</td>\n",
       "      <td>-1.202393</td>\n",
       "      <td>-23.380508</td>\n",
       "      <td>-5.781133</td>\n",
       "      <td>-7.811022</td>\n",
       "      <td>-16.303538</td>\n",
       "      <td>5.573625</td>\n",
       "      <td>-13.635216</td>\n",
       "      <td>-0.483236</td>\n",
       "      <td>-7.352792</td>\n",
       "      <td>-2.392684</td>\n",
       "      <td>-8.728142</td>\n",
       "      <td>-17.598854</td>\n",
       "      <td>-7.455956</td>\n",
       "      <td>0.169741</td>\n",
       "      <td>2.106034</td>\n",
       "      <td>-4.884983</td>\n",
       "      <td>1.140910</td>\n",
       "      <td>1.392953</td>\n",
       "      <td>0.348997</td>\n",
       "      <td>-2.167510</td>\n",
       "      <td>-0.798754</td>\n",
       "      <td>-2.942775</td>\n",
       "      <td>-0.462680</td>\n",
       "      <td>1.63</td>\n",
       "      <td>1</td>\n",
       "    </tr>\n",
       "    <tr>\n",
       "      <td>150654</td>\n",
       "      <td>93834.0</td>\n",
       "      <td>-3.765680</td>\n",
       "      <td>5.890735</td>\n",
       "      <td>-10.202268</td>\n",
       "      <td>10.259036</td>\n",
       "      <td>-5.611448</td>\n",
       "      <td>-3.235376</td>\n",
       "      <td>-10.632683</td>\n",
       "      <td>3.272716</td>\n",
       "      <td>-5.268905</td>\n",
       "      <td>-11.182125</td>\n",
       "      <td>8.879476</td>\n",
       "      <td>-18.431131</td>\n",
       "      <td>-0.232822</td>\n",
       "      <td>-15.021657</td>\n",
       "      <td>0.141186</td>\n",
       "      <td>-12.186362</td>\n",
       "      <td>-20.165567</td>\n",
       "      <td>-7.051651</td>\n",
       "      <td>2.500827</td>\n",
       "      <td>1.194137</td>\n",
       "      <td>2.245606</td>\n",
       "      <td>0.546321</td>\n",
       "      <td>0.381853</td>\n",
       "      <td>0.382025</td>\n",
       "      <td>-0.821036</td>\n",
       "      <td>0.394355</td>\n",
       "      <td>1.412961</td>\n",
       "      <td>0.782407</td>\n",
       "      <td>0.01</td>\n",
       "      <td>1</td>\n",
       "    </tr>\n",
       "  </tbody>\n",
       "</table>\n",
       "</div>"
      ],
      "text/plain": [
       "            Time         V1         V2         V3         V4         V5  \\\n",
       "180226  124436.0  -0.066144   0.022630   0.573349  -1.803766   0.047718   \n",
       "88258    62059.0  -1.644403   3.129852  -2.576977   3.415573  -0.448525   \n",
       "196138  131371.0  -0.947727   0.950871   2.522404   3.160540   1.333342   \n",
       "151462   95559.0 -16.308650  11.614801 -19.739386  10.463866 -12.599146   \n",
       "150654   93834.0  -3.765680   5.890735 -10.202268  10.259036  -5.611448   \n",
       "\n",
       "              V6         V7        V8        V9        V10       V11  \\\n",
       "180226 -1.947762   1.099290 -0.636443 -0.903976   0.033664 -0.446594   \n",
       "88258  -1.241893  -1.991652  1.002665 -2.809071  -4.153692  1.398185   \n",
       "196138  1.436688   0.501537 -0.167487 -1.138064   1.344973 -1.572457   \n",
       "151462 -1.202393 -23.380508 -5.781133 -7.811022 -16.303538  5.573625   \n",
       "150654 -3.235376 -10.632683  3.272716 -5.268905 -11.182125  8.879476   \n",
       "\n",
       "              V12       V13        V14       V15        V16        V17  \\\n",
       "180226   0.000434  0.121321  -0.007651 -0.695603  -1.606521  -0.649771   \n",
       "88258   -5.653270 -1.233694  -6.332513  0.458715  -1.983610  -4.929162   \n",
       "196138  -0.686062  0.922541  -0.996872 -0.042470   0.617926  -0.933038   \n",
       "151462 -13.635216 -0.483236  -7.352792 -2.392684  -8.728142 -17.598854   \n",
       "150654 -18.431131 -0.232822 -15.021657  0.141186 -12.186362 -20.165567   \n",
       "\n",
       "             V18       V19       V20       V21       V22       V23       V24  \\\n",
       "180226  1.032225 -2.733577 -0.631506  0.098103  0.906768  0.064897  0.910962   \n",
       "88258  -1.038482 -0.133819  0.290187  0.417762 -0.648576 -0.318617 -0.680413   \n",
       "196138  0.344287 -0.453496  0.173241  0.120144  0.696560 -0.590870  0.207156   \n",
       "151462 -7.455956  0.169741  2.106034 -4.884983  1.140910  1.392953  0.348997   \n",
       "150654 -7.051651  2.500827  1.194137  2.245606  0.546321  0.381853  0.382025   \n",
       "\n",
       "             V25       V26       V27       V28  Amount  Class  \n",
       "180226 -0.880030 -0.580757  0.069084  0.041817   30.34      0  \n",
       "88258   0.389869  0.055750  0.394682  0.298821    6.62      1  \n",
       "196138  0.495250  0.311736 -0.518486 -0.288531   16.95      0  \n",
       "151462 -2.167510 -0.798754 -2.942775 -0.462680    1.63      1  \n",
       "150654 -0.821036  0.394355  1.412961  0.782407    0.01      1  "
      ]
     },
     "execution_count": 25,
     "metadata": {},
     "output_type": "execute_result"
    }
   ],
   "source": [
    "# To make a balance of fraud and non fraud we apply this thing.\n",
    "df = df.sample(frac = 1)\n",
    "fraud = df.loc[df['Class']==1]\n",
    "non_fraud = df.loc[df['Class']==0][:492]\n",
    "normal_distributed = pd.concat([fraud , non_fraud])\n",
    "new_df = normal_distributed.sample(frac = 1, random_state = 42)\n",
    "new_df.head()"
   ]
  },
  {
   "cell_type": "code",
   "execution_count": 27,
   "metadata": {},
   "outputs": [
    {
     "data": {
      "image/png": "[encoded data removed]",
      "text/plain": [
       "<Figure size 432x288 with 1 Axes>"
      ]
     },
     "metadata": {
      "needs_background": "light"
     },
     "output_type": "display_data"
    }
   ],
   "source": [
    "# After this we can applying our preprocessing part.\n",
    "import seaborn as sns\n",
    "sns.countplot('Class',data = new_df)\n",
    "plt.show()"
   ]
  },
  {
   "cell_type": "code",
   "execution_count": 40,
   "metadata": {},
   "outputs": [
    {
     "data": {
      "text/plain": [
       "<matplotlib.axes._subplots.AxesSubplot at 0x1c1e358acc8>"
      ]
     },
     "execution_count": 40,
     "metadata": {},
     "output_type": "execute_result"
    },
    {
     "data": {
      "image/png": "[encoded data removed]",
      "text/plain": [
       "<Figure size 720x720 with 4 Axes>"
      ]
     },
     "metadata": {
      "needs_background": "light"
     },
     "output_type": "display_data"
    }
   ],
   "source": [
    "# In this  heatmap we can see the correlation before the handle imbalanced data and after handle the data\n",
    "f,(ax1 , ax2 ) = plt.subplots(2,1,figsize =(10,10))\n",
    "corr = df.corr()\n",
    "sns.heatmap(corr , ax = ax1 , cmap = 'coolwarm_r')\n",
    "new_corr = new_df.corr()\n",
    "sns.heatmap(new_corr , ax = ax2 ,cmap = 'coolwarm_r')"
   ]
  },
  {
   "cell_type": "code",
   "execution_count": 47,
   "metadata": {},
   "outputs": [
    {
     "data": {
      "text/plain": [
       "<matplotlib.axes._subplots.AxesSubplot at 0x1c1e506ba88>"
      ]
     },
     "execution_count": 47,
     "metadata": {},
     "output_type": "execute_result"
    },
    {
     "data": {
      "image/png": "[encoded data removed]",
      "text/plain": [
       "<Figure size 1080x720 with 3 Axes>"
      ]
     },
     "metadata": {
      "needs_background": "light"
     },
     "output_type": "display_data"
    }
   ],
   "source": [
    "# In this we are norm our data.\n",
    "from scipy.stats import norm\n",
    "f , (ax1 , ax2 , ax3) = plt.subplots(1,3 ,figsize = (15,10))\n",
    "v14_dist = new_df['V14'].loc[df['Class'] == 1].values\n",
    "sns.distplot(v14_dist , ax = ax1,fit = norm)\n",
    "v12_dist =  new_df['V12'].loc[df['Class'] == 1].values\n",
    "sns.distplot(v12_dist , ax = ax2,fit = norm)\n",
    "v10_dist =  new_df['V10'].loc[df['Class'] == 1].values\n",
    "sns.distplot(v10_dist , ax = ax3,fit = norm)"
   ]
  },
  {
   "cell_type": "code",
   "execution_count": 80,
   "metadata": {},
   "outputs": [],
   "source": [
    "X = new_df.drop('Class',axis = 1)\n",
    "y = new_df['Class']\n",
    "from sklearn.model_selection import train_test_split\n",
    "X_train , X_test , Y_train , Y_test = train_test_split(X ,y , test_size = 0.2 , random_state = 42)"
   ]
  },
  {
   "cell_type": "code",
   "execution_count": 81,
   "metadata": {},
   "outputs": [],
   "source": [
    "X_train = X_train.values\n"
   ]
  },
  {
   "cell_type": "code",
   "execution_count": 82,
   "metadata": {},
   "outputs": [],
   "source": [
    "X_test = X_test.values\n"
   ]
  },
  {
   "cell_type": "code",
   "execution_count": 83,
   "metadata": {},
   "outputs": [],
   "source": [
    "Y_train = Y_train.values\n"
   ]
  },
  {
   "cell_type": "code",
   "execution_count": 84,
   "metadata": {},
   "outputs": [],
   "source": [
    "Y_test = Y_test.values\n"
   ]
  },
  {
   "cell_type": "code",
   "execution_count": 100,
   "metadata": {},
   "outputs": [],
   "source": [
    "from sklearn.linear_model import LogisticRegression\n",
    "from sklearn.tree import DecisionTreeClassifier\n",
    "from sklearn.metrics import accuracy_score\n",
    "from sklearn.model_selection import cross_val_score\n",
    "from sklearn.svm import SVC\n",
    "from sklearn.ensemble  import RandomForestClassifier"
   ]
  },
  {
   "cell_type": "code",
   "execution_count": 101,
   "metadata": {},
   "outputs": [
    {
     "name": "stderr",
     "output_type": "stream",
     "text": [
      "C:\\Users\\Lenovo\\Anaconda3\\lib\\site-packages\\sklearn\\linear_model\\_logistic.py:764: ConvergenceWarning: lbfgs failed to converge (status=1):\n",
      "STOP: TOTAL NO. of ITERATIONS REACHED LIMIT.\n",
      "\n",
      "Increase the number of iterations (max_iter) or scale the data as shown in:\n",
      "    https://scikit-learn.org/stable/modules/preprocessing.html\n",
      "Please also refer to the documentation for alternative solver options:\n",
      "    https://scikit-learn.org/stable/modules/linear_model.html#logistic-regression\n",
      "  extra_warning_msg=_LOGISTIC_SOLVER_CONVERGENCE_MSG)\n"
     ]
    },
    {
     "name": "stdout",
     "output_type": "stream",
     "text": [
      "Name lr , Model: 0.9415060872369588\n",
      "Name DT , Model: 0.9148189954043378\n",
      "Name RF , Model: 0.9351447230508748\n",
      "Name SVM , Model: 0.5425703458840603\n"
     ]
    }
   ],
   "source": [
    "# Model selection.\n",
    "models= []\n",
    "models.append(('lr',LogisticRegression()))\n",
    "models.append(('DT',DecisionTreeClassifier()))\n",
    "models.append(('RF',RandomForestClassifier()))\n",
    "models.append(('SVM',SVC(gamma = 'auto')))\n",
    "for name , model in models:\n",
    "    cross_val = cross_val_score(model ,X_train , Y_train , cv = 5)\n",
    "    print('Name {} , Model: {}'.format(name , cross_val.mean()))\n",
    "    "
   ]
  },
  {
   "cell_type": "code",
   "execution_count": null,
   "metadata": {},
   "outputs": [],
   "source": []
  },
  {
   "cell_type": "code",
   "execution_count": null,
   "metadata": {},
   "outputs": [],
   "source": []
  },
  {
   "cell_type": "code",
   "execution_count": null,
   "metadata": {},
   "outputs": [],
   "source": []
  },
  {
   "cell_type": "code",
   "execution_count": null,
   "metadata": {},
   "outputs": [],
   "source": []
  },
  {
   "cell_type": "markdown",
   "metadata": {},
   "source": [
    "# If we have a imbalanced dataset then it causes overfitting Problem and unable to see the correlation between the classes "
   ]
  },
  {
   "cell_type": "code",
   "execution_count": null,
   "metadata": {},
   "outputs": [],
   "source": []
  },
  {
   "cell_type": "code",
   "execution_count": null,
   "metadata": {},
   "outputs": [],
   "source": []
  },
  {
   "cell_type": "code",
   "execution_count": 229,
   "metadata": {},
   "outputs": [],
   "source": []
  },
  {
   "cell_type": "code",
   "execution_count": 231,
   "metadata": {},
   "outputs": [],
   "source": []
  },
  {
   "cell_type": "code",
   "execution_count": 232,
   "metadata": {},
   "outputs": [],
   "source": []
  },
  {
   "cell_type": "code",
   "execution_count": null,
   "metadata": {},
   "outputs": [],
   "source": []
  },
  {
   "cell_type": "code",
   "execution_count": null,
   "metadata": {},
   "outputs": [],
   "source": []
  },
  {
   "cell_type": "code",
   "execution_count": 244,
   "metadata": {},
   "outputs": [],
   "source": []
  },
  {
   "cell_type": "code",
   "execution_count": null,
   "metadata": {},
   "outputs": [],
   "source": []
  },
  {
   "cell_type": "code",
   "execution_count": null,
   "metadata": {},
   "outputs": [],
   "source": []
  },
  {
   "cell_type": "code",
   "execution_count": 270,
   "metadata": {},
   "outputs": [],
   "source": []
  },
  {
   "cell_type": "code",
   "execution_count": null,
   "metadata": {},
   "outputs": [],
   "source": []
  },
  {
   "cell_type": "code",
   "execution_count": null,
   "metadata": {},
   "outputs": [],
   "source": []
  },
  {
   "cell_type": "code",
   "execution_count": null,
   "metadata": {},
   "outputs": [],
   "source": []
  },
  {
   "cell_type": "code",
   "execution_count": null,
   "metadata": {},
   "outputs": [],
   "source": []
  },
  {
   "cell_type": "code",
   "execution_count": null,
   "metadata": {},
   "outputs": [],
   "source": []
  },
  {
   "cell_type": "markdown",
   "metadata": {},
   "source": [
    "\n"
   ]
  },
  {
   "cell_type": "code",
   "execution_count": null,
   "metadata": {},
   "outputs": [],
   "source": []
  },
  {
   "cell_type": "code",
   "execution_count": 92,
   "metadata": {},
   "outputs": [],
   "source": []
  },
  {
   "cell_type": "code",
   "execution_count": null,
   "metadata": {},
   "outputs": [],
   "source": []
  },
  {
   "cell_type": "code",
   "execution_count": null,
   "metadata": {},
   "outputs": [],
   "source": []
  },
  {
   "cell_type": "code",
   "execution_count": null,
   "metadata": {},
   "outputs": [],
   "source": []
  },
  {
   "cell_type": "code",
   "execution_count": null,
   "metadata": {},
   "outputs": [],
   "source": []
  },
  {
   "cell_type": "code",
   "execution_count": null,
   "metadata": {},
   "outputs": [],
   "source": []
  },
  {
   "cell_type": "code",
   "execution_count": null,
   "metadata": {},
   "outputs": [],
   "source": []
  },
  {
   "cell_type": "code",
   "execution_count": null,
   "metadata": {},
   "outputs": [],
   "source": []
  },
  {
   "cell_type": "code",
   "execution_count": null,
   "metadata": {},
   "outputs": [],
   "source": []
  },
  {
   "cell_type": "code",
   "execution_count": null,
   "metadata": {},
   "outputs": [],
   "source": []
  },
  {
   "cell_type": "code",
   "execution_count": null,
   "metadata": {},
   "outputs": [],
   "source": []
  },
  {
   "cell_type": "code",
   "execution_count": null,
   "metadata": {},
   "outputs": [],
   "source": []
  },
  {
   "cell_type": "code",
   "execution_count": null,
   "metadata": {},
   "outputs": [],
   "source": []
  },
  {
   "cell_type": "code",
   "execution_count": null,
   "metadata": {},
   "outputs": [],
   "source": []
  }
 ],
 "metadata": {
  "kernelspec": {
   "display_name": "Python 3",
   "language": "python",
   "name": "python3"
  },
  "language_info": {
   "codemirror_mode": {
    "name": "ipython",
    "version": 3
   },
   "file_extension": ".py",
   "mimetype": "text/x-python",
   "name": "python",
   "nbconvert_exporter": "python",
   "pygments_lexer": "ipython3",
   "version": "3.7.4"
  }
 },
 "nbformat": 4,
 "nbformat_minor": 2
}
